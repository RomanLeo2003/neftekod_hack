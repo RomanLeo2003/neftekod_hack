{
 "cells": [
  {
   "cell_type": "code",
   "execution_count": 3,
   "id": "2ac12042-4889-4929-8be1-06db6162bc9b",
   "metadata": {
    "ExecuteTime": {
     "end_time": "2024-03-07T08:26:50.496374Z",
     "start_time": "2024-03-07T08:26:50.286338Z"
    },
    "tags": []
   },
   "outputs": [],
   "source": [
    "# Load in the raw data\n",
    "import pandas as pd\n",
    "\n",
    "DATASETS_PATH = '../../data/data'\n",
    "\n",
    "df = pd.read_csv('../../data/csvs/hack_data_extended.csv', header=0, na_values=('NA', 'nan', 'NaN'))\n",
    "filtered_df = df.groupby('PDSC').head(12).reset_index(drop=True)\n",
    "filtered_df.drop(['C'], axis=1, inplace=True)"
   ]
  },
  {
   "cell_type": "code",
   "execution_count": null,
   "id": "71fb1d51-aa9f-4b7d-a353-b273ca69ac55",
   "metadata": {
    "ExecuteTime": {
     "end_time": "2024-03-07T08:27:09.802329Z",
     "start_time": "2024-03-07T08:26:50.497663Z"
    },
    "tags": []
   },
   "outputs": [
    {
     "name": "stdout",
     "output_type": "stream",
     "text": [
      "Number of samples train set: 197\n",
      "Number of samples test set: 35, 15.086206896551724%\n"
     ]
    }
   ],
   "source": [
    "import os\n",
    "from qsprpred.data import QSPRDataset\n",
    "from qsprpred.data.descriptors.fingerprints import MorganFP, RDKitFP\n",
    "from qsprpred.data.sampling.splits import ScaffoldSplit\n",
    "from qsprpred.tasks import TargetTasks\n",
    "\n",
    "DATA_PATH_QSAR = \"data/data/qsar\"\n",
    "os.makedirs(DATA_PATH_QSAR, exist_ok=True)\n",
    "\n",
    "# create the data set\n",
    "dataset = QSPRDataset(\n",
    "    name=\"PDSC_pred\",\n",
    "    df=filtered_df.copy(), \n",
    "    target_props=[{\"name\" : \"PDSC\", \"task\" : TargetTasks.REGRESSION}], \n",
    "    store_dir=DATA_PATH_QSAR,\n",
    ")\n",
    "\n",
    "# split on scaffolds\n",
    "split = ScaffoldSplit(test_fraction=0.15)\n",
    "\n",
    "dataset.prepareDataset(\n",
    "    split=split,\n",
    "    feature_calculators=[MorganFP(radius=3, nBits=2048), RDKitFP(nBits=2 * 1024)]\n",
    ")\n",
    "\n",
    "print(f\"Number of samples train set: {len(dataset.y)}\")\n",
    "print(f\"Number of samples test set: {len(dataset.y_ind)}, {len(dataset.y_ind) / len(dataset.df) * 100}%\")"
   ]
  },
  {
   "cell_type": "code",
   "execution_count": null,
   "id": "7e9ebb3e",
   "metadata": {},
   "outputs": [
    {
     "data": {
      "text/plain": [
       "{'bootstrap': False,\n",
       " 'max_depth': 35,\n",
       " 'max_features': 'sqrt',\n",
       " 'min_samples_leaf': 2,\n",
       " 'min_samples_split': 2,\n",
       " 'n_estimators': 100,\n",
       " 'n_jobs': 20}"
      ]
     },
     "execution_count": 18,
     "metadata": {},
     "output_type": "execute_result"
    }
   ],
   "source": [
    "# A small example of how to optimize hyperparameters for a model\n",
    "from qsprpred.models import CrossValAssessor\n",
    "from qsprpred.models.scikit_learn import SklearnModel\n",
    "from qsprpred.models.hyperparam_optimization import GridSearchOptimization\n",
    "from sklearn.ensemble import RandomForestRegressor\n",
    "from catboost import CatBoostRegressor\n",
    "\n",
    "params = {\n",
    "    'n_estimators': [50, 100, 200],         # количество деревьев (лучше не больше 200 при малом датасете)\n",
    "    'max_depth': [5, 10, 20, 35],         # глубина дерева (None — до полного разбиения)\n",
    "    'min_samples_split': [2, 5, 10],        # минимальное число образцов для разбиения\n",
    "    'min_samples_leaf': [1, 2, 4],          # минимальное число образцов в листе\n",
    "    'max_features': ['sqrt', 'log2', None], # стратегия выбора признаков\n",
    "    'bootstrap': [True, False],\n",
    "    'n_jobs': [20]\n",
    "}\n",
    "\n",
    "model = SklearnModel(\n",
    "    name=\"A2AR_ForestRegressor_hack_data_extended_with_submits\",\n",
    "    base_dir='../../models/A2AR_ForestRegressor_hack_data_extended_with_submits',\n",
    "    alg = RandomForestRegressor\n",
    ")\n",
    "\n",
    "gridsearcher = GridSearchOptimization(param_grid=params, model_assessor=CrossValAssessor(scoring='neg_mean_squared_error'))\n",
    "best_params = gridsearcher.optimize(model, dataset)\n",
    "best_params"
   ]
  },
  {
   "cell_type": "code",
   "execution_count": 19,
   "id": "0a8db837-d421-4f15-a4e8-5fcc052e0237",
   "metadata": {
    "ExecuteTime": {
     "end_time": "2024-03-07T08:27:53.778226Z",
     "start_time": "2024-03-07T08:27:37.322350Z"
    },
    "tags": []
   },
   "outputs": [],
   "source": [
    "# A small example of how to assess a model\n",
    "from qsprpred.models.assessment.methods import CrossValAssessor, TestSetAssessor\n",
    "\n",
    "CrossValAssessor(scoring='neg_mean_squared_error')(model, dataset)\n",
    "TestSetAssessor(scoring='neg_mean_squared_error')(model, dataset)\n",
    "_ = model.fitDataset(dataset)"
   ]
  }
 ],
 "metadata": {
  "kernelspec": {
   "display_name": "venv_python3.9",
   "language": "python",
   "name": "python3"
  },
  "language_info": {
   "codemirror_mode": {
    "name": "ipython",
    "version": 3
   },
   "file_extension": ".py",
   "mimetype": "text/x-python",
   "name": "python",
   "nbconvert_exporter": "python",
   "pygments_lexer": "ipython3",
   "version": "3.9.6"
  }
 },
 "nbformat": 4,
 "nbformat_minor": 5
}
