{
 "cells": [
  {
   "cell_type": "code",
   "execution_count": null,
   "id": "ad8c0781",
   "metadata": {},
   "outputs": [],
   "source": [
    "import pandas as pd\n",
    "\n",
    "df = pd.read_csv('name.csv')"
   ]
  },
  {
   "cell_type": "code",
   "execution_count": null,
   "id": "84bb4395",
   "metadata": {},
   "outputs": [],
   "source": [
    "import numpy as np\n",
    "from rdkit import Chem\n",
    "\n",
    "def canonicalize_smiles(smiles_str):\n",
    "    try:\n",
    "        mol = Chem.MolFromSmiles(smiles_str, sanitize=True)\n",
    "        if mol is None:\n",
    "            return None\n",
    "        return Chem.MolToSmiles(mol, isomericSmiles=True, canonical=True)\n",
    "    except:\n",
    "        return None"
   ]
  },
  {
   "cell_type": "code",
   "execution_count": null,
   "id": "1c267711",
   "metadata": {},
   "outputs": [],
   "source": [
    "df['SMILES'] = df['SMILES'].apply(canonicalize_smiles)\n",
    "df = df[df['SMILES'].notna()]"
   ]
  },
  {
   "cell_type": "code",
   "execution_count": null,
   "id": "307dd51f",
   "metadata": {},
   "outputs": [],
   "source": [
    "df = df.drop_duplicates(subset=\"SMILES\", keep=\"first\")"
   ]
  },
  {
   "cell_type": "code",
   "execution_count": null,
   "id": "0eee0807",
   "metadata": {},
   "outputs": [],
   "source": [
    "from rdkit import Chem\n",
    "from rdkit.Chem import Descriptors, Crippen\n",
    "\n",
    "# Разрешённые элементы\n",
    "allowed_atoms = {'C', 'H', 'O', 'N', 'P', 'S'}\n",
    "\n",
    "def is_valid_molecule(smiles):\n",
    "    mol = Chem.MolFromSmiles(smiles)\n",
    "    if mol is None:\n",
    "        return False\n",
    "\n",
    "    # 1. Нейтральность: без зарядов\n",
    "    if Chem.GetFormalCharge(mol) != 0:\n",
    "        return False\n",
    "\n",
    "    # 2. Без радикалов (атомы с неспаренными электронами)\n",
    "    if any(atom.GetNumRadicalElectrons() != 0 for atom in mol.GetAtoms()):\n",
    "        return False\n",
    "\n",
    "    # 3. Молекулярная масса ≤ 1000\n",
    "    if Descriptors.MolWt(mol) > 1000:\n",
    "        return False\n",
    "\n",
    "    # 4. Только разрешённые атомы\n",
    "    atoms = {atom.GetSymbol() for atom in mol.GetAtoms()}\n",
    "    if not atoms.issubset(allowed_atoms):\n",
    "        return False\n",
    "\n",
    "    # 5. logP > 1\n",
    "    if Crippen.MolLogP(mol) <= 1:\n",
    "        return False\n",
    "\n",
    "    return True\n",
    "\n",
    "df_filtered = df[df['SMILES'].apply(is_valid_molecule)]\n",
    "\n",
    "print(f\"Прошло фильтрацию: {len(df_filtered)} молекул из {len(df)}\")"
   ]
  },
  {
   "cell_type": "code",
   "execution_count": null,
   "id": "cde735aa",
   "metadata": {},
   "outputs": [],
   "source": [
    "df = df_filtered.copy()"
   ]
  },
  {
   "cell_type": "code",
   "execution_count": null,
   "id": "7dc73cef",
   "metadata": {},
   "outputs": [],
   "source": [
    "from rdkit.Chem import Fragments\n",
    "\n",
    "def has_phenol_or_aromatic_amine(smiles):\n",
    "    mol = Chem.MolFromSmiles(smiles)\n",
    "    if mol is None:\n",
    "        return False\n",
    "    return Fragments.fr_phenol(mol) > 0 or Fragments.fr_aniline(mol) > 0\n",
    "\n",
    "df['has_target_group'] = df['SMILES'].apply(has_phenol_or_aromatic_amine)\n",
    "\n",
    "df_fragments = df[df['has_target_group'] == True]"
   ]
  },
  {
   "cell_type": "code",
   "execution_count": null,
   "id": "1008a12a",
   "metadata": {},
   "outputs": [],
   "source": [
    "df = df_fragments.drop(columns=['has_target_group'])"
   ]
  },
  {
   "cell_type": "code",
   "execution_count": null,
   "id": "d5d75633",
   "metadata": {},
   "outputs": [],
   "source": [
    "import sascorer\n",
    "\n",
    "def calculate_sa_score(smiles):\n",
    "    mol = Chem.MolFromSmiles(smiles)\n",
    "    if mol is None:\n",
    "        return False\n",
    "    return sascorer.calculateScore(mol)\n",
    "\n",
    "df['SA_Score'] = df['SMILES'].apply(calculate_sa_score)\n",
    "\n",
    "df_filtered = df[df['SA_Score'] < 6].reset_index(drop=True)"
   ]
  },
  {
   "cell_type": "code",
   "execution_count": null,
   "id": "dd7b6fb6",
   "metadata": {},
   "outputs": [],
   "source": [
    "df = df_filtered.drop(columns=['SA_Score'])"
   ]
  },
  {
   "cell_type": "code",
   "execution_count": null,
   "id": "c6648408",
   "metadata": {},
   "outputs": [],
   "source": [
    "df.to_csv('name_1.csv', index= False)"
   ]
  },
  {
   "cell_type": "code",
   "execution_count": null,
   "id": "de60196c",
   "metadata": {},
   "outputs": [],
   "source": [
    "df = pd.read_csv('name_1.csv')"
   ]
  },
  {
   "cell_type": "code",
   "execution_count": null,
   "id": "80811a8d",
   "metadata": {},
   "outputs": [],
   "source": [
    "import numpy as np\n",
    "from rdkit import Chem\n",
    "\n",
    "def mol_from_smiles(smiles):\n",
    "    mol = Chem.MolFromSmiles(smiles)\n",
    "    if mol is None:\n",
    "        return np.nan\n",
    "    else:\n",
    "        return mol"
   ]
  },
  {
   "cell_type": "code",
   "execution_count": null,
   "id": "ced9877c",
   "metadata": {},
   "outputs": [],
   "source": [
    "df['mol'] = df['SMILES'].apply(mol_from_smiles)\n",
    "df['Hmol'] = df['mol'].apply(lambda mol: Chem.AddHs(mol))"
   ]
  },
  {
   "cell_type": "code",
   "execution_count": null,
   "id": "af3fef1e",
   "metadata": {},
   "outputs": [],
   "source": [
    "from rdkit.Chem import Descriptors\n",
    "from rdkit.ML.Descriptors import MoleculeDescriptors\n",
    "\n",
    "descriptor_names = [desc[0] for desc in Descriptors._descList]\n",
    "\n",
    "Desc_list_func = MoleculeDescriptors.MolecularDescriptorCalculator(descriptor_names)\n",
    "\n",
    "def compute_descriptors(mol):\n",
    "    return Desc_list_func.CalcDescriptors(mol)\n",
    "\n",
    "df_desc_values = df['Hmol'].apply(compute_descriptors)\n",
    "\n",
    "df_desc = pd.DataFrame(\n",
    "    df_desc_values.tolist(),\n",
    "    columns=descriptor_names,\n",
    ")\n",
    "\n",
    "df = pd.concat([df, df_desc], axis=1)"
   ]
  },
  {
   "cell_type": "code",
   "execution_count": null,
   "id": "8bf714ec",
   "metadata": {},
   "outputs": [],
   "source": [
    "from mordred import Calculator, descriptors\n",
    "\n",
    "calc = Calculator(descriptors, ignore_3D=True)\n",
    "\n",
    "df_mordred_desc = calc.pandas(df['Hmol'])\n",
    "\n",
    "df = pd.concat([df, df_mordred_desc], axis=1)"
   ]
  },
  {
   "cell_type": "code",
   "execution_count": null,
   "id": "bf34774e",
   "metadata": {},
   "outputs": [],
   "source": [
    "from rdkit.Chem.rdFingerprintGenerator import GetMorganGenerator\n",
    "from rdkit.DataStructs import ConvertToNumpyArray\n",
    "\n",
    "radius = 3\n",
    "nBits = 2048\n",
    "\n",
    "generator = GetMorganGenerator(radius=radius, fpSize=nBits, countSimulation=True)\n",
    "\n",
    "def mol_to_morgan_fp(mol):\n",
    "    arr = np.zeros((nBits,), dtype=int)\n",
    "    if mol is not None:\n",
    "        fp = generator.GetFingerprint(mol)\n",
    "        ConvertToNumpyArray(fp, arr)\n",
    "    return arr\n",
    "\n",
    "df_fingerprints_value = np.array([mol_to_morgan_fp(mol) for mol in df['Hmol']])\n",
    "\n",
    "df_fingerprints = pd.DataFrame(df_fingerprints_value, columns=[f'fp_{i}' for i in range(nBits)])\n",
    "\n",
    "df = pd.concat([df, df_fingerprints], axis=1)"
   ]
  },
  {
   "cell_type": "code",
   "execution_count": null,
   "id": "3ce25297",
   "metadata": {},
   "outputs": [],
   "source": [
    "df = df.drop(columns = ['mol', 'Hmol'])"
   ]
  },
  {
   "cell_type": "code",
   "execution_count": null,
   "id": "2929348b",
   "metadata": {},
   "outputs": [],
   "source": [
    "df1 = df.copy()"
   ]
  },
  {
   "cell_type": "code",
   "execution_count": null,
   "id": "997740f5",
   "metadata": {},
   "outputs": [],
   "source": [
    "Y = df1[['SMILES']]\n",
    "X = df1.drop(columns=['SMILES'])"
   ]
  },
  {
   "cell_type": "code",
   "execution_count": null,
   "id": "b840c88a",
   "metadata": {},
   "outputs": [],
   "source": [
    "df = X\n",
    "\n",
    "df_clean = df.copy()\n",
    "\n",
    "df_clean = df.apply(pd.to_numeric, errors='coerce')"
   ]
  },
  {
   "cell_type": "code",
   "execution_count": null,
   "id": "6370c5bc",
   "metadata": {},
   "outputs": [],
   "source": [
    "nan_ratio = df_clean.isna().mean()\n",
    "print(nan_ratio.sort_values(ascending=False))"
   ]
  },
  {
   "cell_type": "code",
   "execution_count": null,
   "id": "d307b36d",
   "metadata": {},
   "outputs": [],
   "source": [
    "df_filtered = df_clean.loc[:, nan_ratio < 0.8]"
   ]
  },
  {
   "cell_type": "code",
   "execution_count": null,
   "id": "a9d6dc05",
   "metadata": {},
   "outputs": [],
   "source": [
    "df = df_filtered"
   ]
  },
  {
   "cell_type": "code",
   "execution_count": null,
   "id": "c937829b",
   "metadata": {},
   "outputs": [],
   "source": [
    "missing_count = df.isna().sum()\n",
    "missing_ratio = df.isna().mean()\n",
    "\n",
    "summary = pd.DataFrame({\n",
    "    'NaN_count': missing_count,\n",
    "    'NaN_ratio': missing_ratio\n",
    "}).query(\"NaN_count > 0\").sort_values(\"NaN_ratio\", ascending=False)\n",
    "\n",
    "print(summary)"
   ]
  },
  {
   "cell_type": "code",
   "execution_count": null,
   "id": "d079297a",
   "metadata": {},
   "outputs": [],
   "source": [
    "df2 = df.copy()"
   ]
  },
  {
   "cell_type": "code",
   "execution_count": null,
   "id": "0038c6eb",
   "metadata": {},
   "outputs": [],
   "source": [
    "import pandas as pd\n",
    "import numpy as np\n",
    "\n",
    "def process_missing_values(df, nan_threshold=0.3, fill_strategy='median'):\n",
    "    \"\"\"\n",
    "    Удаляет признаки с большим количеством пропусков и заполняет остальные.\n",
    "    \n",
    "    Параметры:\n",
    "    - df: исходный DataFrame\n",
    "    - nan_threshold: максимальная доля NaN в колонке (удалим всё, что выше)\n",
    "    - fill_strategy: 'median', 'mean', 'zero', 'ffill', 'bfill'\n",
    "    \n",
    "    Возвращает:\n",
    "    - очищенный DataFrame\n",
    "    - таблицу с информацией о NaN до обработки\n",
    "    \"\"\"\n",
    "    df = df.copy()\n",
    "    \n",
    "    # 1. Анализ NaN\n",
    "    nan_count = df.isna().sum()\n",
    "    nan_ratio = df.isna().mean()\n",
    "    summary = pd.DataFrame({\n",
    "        'NaN_count': nan_count,\n",
    "        'NaN_ratio': nan_ratio\n",
    "    }).sort_values('NaN_ratio', ascending=False)\n",
    "\n",
    "    print(\"Обнаружены пропущенные значения в следующих столбцах:\")\n",
    "    print(summary[summary['NaN_count'] > 0])\n",
    "    \n",
    "    # 2. Удалим столбцы, где NaN больше порога\n",
    "    cols_to_drop = summary[summary['NaN_ratio'] > nan_threshold].index.tolist()\n",
    "    df.drop(columns=cols_to_drop, inplace=True)\n",
    "    print(f\"\\n Удалено {len(cols_to_drop)} колонок с NaN > {nan_threshold * 100:.0f}%\")\n",
    "\n",
    "    # 3. Заполним оставшиеся NaN\n",
    "    if fill_strategy == 'median':\n",
    "        df = df.fillna(df.median(numeric_only=True))\n",
    "    elif fill_strategy == 'mean':\n",
    "        df = df.fillna(df.mean(numeric_only=True))\n",
    "    elif fill_strategy == 'zero':\n",
    "        df = df.fillna(0)\n",
    "    elif fill_strategy == 'ffill':\n",
    "        df = df.fillna(method='ffill')\n",
    "    elif fill_strategy == 'bfill':\n",
    "        df = df.fillna(method='bfill')\n",
    "    else:\n",
    "        raise ValueError(f\"Неизвестная стратегия заполнения: {fill_strategy}\")\n",
    "    \n",
    "    print(\"Остаточные NaN после заполнения:\", df.isna().sum().sum())\n",
    "    \n",
    "    return df, summary\n"
   ]
  },
  {
   "cell_type": "code",
   "execution_count": null,
   "id": "7f061568",
   "metadata": {},
   "outputs": [],
   "source": [
    "df_cleaned, nan_summary = process_missing_values(df, nan_threshold=0.3, fill_strategy='median')"
   ]
  },
  {
   "cell_type": "code",
   "execution_count": null,
   "id": "fedc5ddc",
   "metadata": {},
   "outputs": [],
   "source": [
    "df = df_cleaned.copy()\n",
    "\n",
    "missing_count = df.isna().sum()\n",
    "missing_ratio = df.isna().mean()\n",
    "\n",
    "summary = pd.DataFrame({\n",
    "    'NaN_count': missing_count,\n",
    "    'NaN_ratio': missing_ratio\n",
    "}).query(\"NaN_count > 0\").sort_values(\"NaN_ratio\", ascending=False)\n",
    "\n",
    "print(summary)"
   ]
  },
  {
   "cell_type": "code",
   "execution_count": null,
   "id": "34d4da8b",
   "metadata": {},
   "outputs": [],
   "source": [
    "X = df"
   ]
  },
  {
   "cell_type": "code",
   "execution_count": null,
   "id": "31156a89",
   "metadata": {},
   "outputs": [],
   "source": [
    "corr_matrix = X.corr().abs()\n",
    "\n",
    "upper = corr_matrix.where(np.triu(np.ones(corr_matrix.shape), k=1).astype(bool))\n",
    "\n",
    "to_drop = [column for column in upper.columns if any(upper[column] > 0.9)]\n",
    "\n",
    "X_filtered = X.drop(columns=to_drop)"
   ]
  },
  {
   "cell_type": "code",
   "execution_count": null,
   "id": "733aa12c",
   "metadata": {},
   "outputs": [],
   "source": [
    "X = X_filtered"
   ]
  },
  {
   "cell_type": "code",
   "execution_count": null,
   "id": "867a543c",
   "metadata": {},
   "outputs": [],
   "source": [
    "X"
   ]
  },
  {
   "cell_type": "code",
   "execution_count": null,
   "id": "4935629f",
   "metadata": {},
   "outputs": [],
   "source": [
    "df = pd.concat([Y, X], axis=1)"
   ]
  },
  {
   "cell_type": "code",
   "execution_count": null,
   "id": "10d61c84",
   "metadata": {},
   "outputs": [],
   "source": [
    "df.to_csv('name_end.csv', index=False)"
   ]
  }
 ],
 "metadata": {
  "kernelspec": {
   "display_name": "Python 3",
   "language": "python",
   "name": "python3"
  },
  "language_info": {
   "codemirror_mode": {
    "name": "ipython",
    "version": 3
   },
   "file_extension": ".py",
   "mimetype": "text/x-python",
   "name": "python",
   "nbconvert_exporter": "python",
   "pygments_lexer": "ipython3",
   "version": "3.11.8"
  }
 },
 "nbformat": 4,
 "nbformat_minor": 5
}
