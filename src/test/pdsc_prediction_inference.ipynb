{
 "cells": [
  {
   "cell_type": "code",
   "execution_count": null,
   "id": "2ac12042-4889-4929-8be1-06db6162bc9b",
   "metadata": {
    "ExecuteTime": {
     "end_time": "2024-03-07T08:26:50.496374Z",
     "start_time": "2024-03-07T08:26:50.286338Z"
    },
    "tags": []
   },
   "outputs": [],
   "source": [
    "# Load in the raw data\n",
    "import pandas as pd\n",
    "\n",
    "# DATASETS_PATH = '../data/data'\n",
    "\n",
    "df = pd.read_csv('smiles.csv', header=0, na_values=('NA', 'nan', 'NaN'))\n",
    "# filtered_df = df.groupby('PDSC').head(15).reset_index(drop=True)"
   ]
  },
  {
   "cell_type": "code",
   "execution_count": null,
   "id": "86b4cdbc",
   "metadata": {},
   "outputs": [],
   "source": [
    "# A small example of how to optimize hyperparameters for a model\n",
    "from qsprpred.models import CrossValAssessor\n",
    "from qsprpred.models.scikit_learn import SklearnModel\n",
    "from qsprpred.models.hyperparam_optimization import GridSearchOptimization\n",
    "from sklearn.ensemble import RandomForestRegressor\n",
    "\n",
    "\n",
    "model = SklearnModel(\n",
    "    name=\"A2AR_ForestRegressor_hack_data_extended_with_submits\",\n",
    "    base_dir='../../models/A2AR_ForestRegressor_hack_data_extended_with_submits'\n",
    ")"
   ]
  },
  {
   "cell_type": "code",
   "execution_count": null,
   "id": "b5b4a077",
   "metadata": {},
   "outputs": [],
   "source": [
    "preds = model.predictMols(df['SMILES'].to_list(), use_probas=False, n_jobs=15).flatten().tolist()\n",
    "df['PDSC_preds'] = preds"
   ]
  }
 ],
 "metadata": {
  "kernelspec": {
   "display_name": "My Env",
   "language": "python",
   "name": "myenv"
  },
  "language_info": {
   "codemirror_mode": {
    "name": "ipython",
    "version": 3
   },
   "file_extension": ".py",
   "mimetype": "text/x-python",
   "name": "python",
   "nbconvert_exporter": "python",
   "pygments_lexer": "ipython3",
   "version": "3.10.12"
  }
 },
 "nbformat": 4,
 "nbformat_minor": 5
}
